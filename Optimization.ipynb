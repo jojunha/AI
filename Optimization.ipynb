{
 "cells": [
  {
   "cell_type": "markdown",
   "id": "195c3ac7",
   "metadata": {},
   "source": [
    "### https://hwiyong.tistory.com/386?category=858475\n",
    "### 원래 코드  Cosine annealing restart"
   ]
  },
  {
   "cell_type": "code",
   "execution_count": 1,
   "id": "e0efc54d",
   "metadata": {},
   "outputs": [],
   "source": [
    "import tensorflow as tf\n",
    "import tensorflow.keras.backend as backend\n",
    "import math\n",
    "\n",
    "class CosineAnnealingLearningRateSchedule(tf.keras.callbacks.Callback):\n",
    "    def __init__(self, n_epochs, n_cycles, lrate_max, min_lr, verbose = 0):\n",
    "        self.epochs = n_epochs\n",
    "        self.cycles=  n_cycles\n",
    "        self.lr_max = lrate_max\n",
    "        self.min_lr = min_lr\n",
    "        self.lrates = list()\n",
    "    \n",
    "    def cosine_annealing(self, epoch, n_epochs, n_cycles, lrate_max):\n",
    "        epochs_per_cycle = math.floor(n_epochs/n_cycles)\n",
    "        cos_inner = (math.pi * (epoch % epochs_per_cycle)) / (epochs_per_cycle)\n",
    "        \n",
    "        return lrate_max/2 * (math.cos(cos_inner) + 1)\n",
    "  \n",
    "    # calculate and set learning rate at the start of the epoch\n",
    "    def on_epoch_begin(self, epoch, logs = None):\n",
    "        if(epoch < 101):\n",
    "            # calculate learning rate\n",
    "            lr = self.cosine_annealing(epoch, self.epochs, self.cycles, self.lr_max)\n",
    "#             print('\\nEpoch %05d: CosineAnnealingScheduler setting learng rate to %s.' % (epoch + 1, lr))\n",
    "\n",
    "        else:\n",
    "            lr = self.min_lr\n",
    "\n",
    "#         backend.set_value(self.model.optimizer.lr, lr)\n",
    "\n",
    "        self.lrates.append(lr)"
   ]
  },
  {
   "cell_type": "markdown",
   "id": "bcd85fdf",
   "metadata": {},
   "source": [
    "### Learning_rate 그래프 확인"
   ]
  },
  {
   "cell_type": "code",
   "execution_count": 2,
   "id": "addb217b",
   "metadata": {},
   "outputs": [
    {
     "data": {
      "image/png": "[encoded data removed]",
      "text/plain": [
       "<Figure size 432x288 with 1 Axes>"
      ]
     },
     "metadata": {
      "needs_background": "light"
     },
     "output_type": "display_data"
    }
   ],
   "source": [
    "cosine_schedule = CosineAnnealingLearningRateSchedule(n_epochs = 100, n_cycles = 5, lrate_max = 1e-3, min_lr = 1e-6)\n",
    "\n",
    "for i in range(1, 100 + 1):\n",
    "    cosine_schedule.on_epoch_begin(i)\n",
    "    \n",
    "import matplotlib.pyplot as plt\n",
    "\n",
    "plt.plot(cosine_schedule.lrates)\n",
    "plt.title('Cosine Annealing_Toy')\n",
    "plt.xlabel('epochs'); plt.ylabel('learning_rate')\n",
    "plt.grid()\n",
    "plt.show()"
   ]
  },
  {
   "cell_type": "markdown",
   "id": "cd9c0d0f",
   "metadata": {},
   "source": [
    "### tf.keras.optimizers.schedules.CosineDecayRestarts 에 \n",
    "### warm up 추가해서 callback 함수로 구현"
   ]
  },
  {
   "cell_type": "code",
   "execution_count": 23,
   "id": "ddcbfbe7",
   "metadata": {},
   "outputs": [],
   "source": [
    "import tensorflow as tf\n",
    "import tensorflow.keras.backend as K\n",
    "import math\n",
    "\n",
    "class CosineAnnealingWarmup(tf.keras.callbacks.Callback):\n",
    "    def __init__(self, epochs_per_cycle,iteration, max_lr, min_lr, verbose = 1):\n",
    "        self.epochs_per_cycle = epochs_per_cycle\n",
    "        self.max_lr = max_lr\n",
    "        self.min_lr = min_lr\n",
    "        self.iteration = iteration;\n",
    "        self.steps = 0;\n",
    "        self.learning_rate = max_lr;\n",
    "        self.epochs = 0; # epoch to search min_lr for each iteration \n",
    "        self.warmup_epoch = 10  # warmup epcch\n",
    "        self.verbose = verbose # log\n",
    "        self.lrates = list() # for graph\n",
    "        \n",
    "        \n",
    "    def cosine_annealing(self, epoch, epochs_per_cycle, max_lr):\n",
    "        self.epochs += 1; \n",
    "        cos_inner = (math.pi * (self.epochs % epochs_per_cycle)) / (epochs_per_cycle)\n",
    "        self.learning_rate = max_lr/2 * (math.cos(cos_inner) + 1)\n",
    "        \n",
    "        if ((self.epochs % epochs_per_cycle) == (epochs_per_cycle-1)):\n",
    "            self.steps += 1\n",
    "            self.max_lr *= 0.8\n",
    "            self.epochs = 0;\n",
    "            self.epochs_per_cycle = math.floor(self.epochs_per_cycle*1.2)\n",
    "            \n",
    "        return max_lr/2 * (math.cos(cos_inner) + 1)\n",
    "  \n",
    "    def warm_up(self, epoch):\n",
    "        \n",
    "        self.learning_rate = self.max_lr * epoch / self.warmup_epoch\n",
    "        \n",
    "        return self.learning_rate\n",
    "\n",
    "    # calculate and set learning rate at the start of the epoch\n",
    "    def on_epoch_begin(self, epoch, logs = None):\n",
    "        if (epoch < self.warmup_epoch):\n",
    "            # warm up learning rate\n",
    "            lr = self.warm_up(epoch)\n",
    "       \n",
    "        elif(self.steps < self.iteration):\n",
    "            # calculate learning rate\n",
    "            lr = self.cosine_annealing(epoch, self.epochs_per_cycle, self.max_lr)\n",
    "            \n",
    "        else:\n",
    "            lr = self.min_lr\n",
    "        \n",
    "#         if (self.verbose == 1):\n",
    "#             print('\\nEpoch %05d: CosineAnnealingScheduler setting learng rate to %s.' % (epoch + 1, lr))  \n",
    "\n",
    "        \n",
    "#         K.set_value(self.model.optimizer.lr, lr)\n",
    "\n",
    "        self.lrates.append(lr)"
   ]
  },
  {
   "cell_type": "markdown",
   "id": "9df4c7ff",
   "metadata": {},
   "source": [
    "### Learning_rate 그래프 확인"
   ]
  },
  {
   "cell_type": "code",
   "execution_count": 24,
   "id": "27985286",
   "metadata": {},
   "outputs": [
    {
     "data": {
      "image/png": "[encoded data removed]",
      "text/plain": [
       "<Figure size 432x288 with 1 Axes>"
      ]
     },
     "metadata": {
      "needs_background": "light"
     },
     "output_type": "display_data"
    }
   ],
   "source": [
    "cosine_schedule = CosineAnnealingWarmup(epochs_per_cycle=50, iteration=3,max_lr = 1e-3, min_lr = 1e-6)\n",
    "\n",
    "for i in range(1, 200 + 1):\n",
    "    cosine_schedule.on_epoch_begin(i)\n",
    "    \n",
    "import matplotlib.pyplot as plt\n",
    "\n",
    "plt.plot(cosine_schedule.lrates)\n",
    "plt.title('Cosine Annealing_Toy')\n",
    "plt.xlabel('epochs'); plt.ylabel('learning_rate')\n",
    "plt.grid()\n",
    "plt.show()"
   ]
  },
  {
   "cell_type": "markdown",
   "id": "2cee84a8",
   "metadata": {},
   "source": [
    "### Label Smoothing\n",
    "#### 손실함수에 인자추가"
   ]
  },
  {
   "cell_type": "code",
   "execution_count": 1,
   "id": "e6042d38",
   "metadata": {},
   "outputs": [],
   "source": [
    "from tensorflow.keras.losses import CategoricalCrossentropy\n",
    "losses = CategoricalCrossentropy(label_smoothing=0.1)"
   ]
  },
  {
   "cell_type": "markdown",
   "id": "98ee890f",
   "metadata": {},
   "source": [
    "### 데이터 불균형 처리를 위한 class_weight 가중치 "
   ]
  },
  {
   "cell_type": "code",
   "execution_count": null,
   "id": "cae8df17",
   "metadata": {},
   "outputs": [],
   "source": [
    "weight_for_0 = (1 / count_class0)*(count_total)/count_class\n",
    "weight_for_1 = (1 / count_class1)*(count_total)/count_class\n",
    "weight_for_2 = (1 / count_class2)*(count_total)/count_class\n",
    "\n",
    "class_weight = {0: weight_for_0, 1: weight_for_1, 2: weight_for_2}"
   ]
  },
  {
   "cell_type": "markdown",
   "id": "98b100c2",
   "metadata": {},
   "source": [
    "### AdamW Optimizer 확실x\n",
    "### https://github.com/shaoanlu/AdamW-and-SGDW/blob/master/AdamW.py"
   ]
  },
  {
   "cell_type": "code",
   "execution_count": null,
   "id": "3e91facb",
   "metadata": {},
   "outputs": [],
   "source": [
    "from tensorflow.keras.optimizers import Adam\n",
    "import six\n",
    "import copy\n",
    "from six.moves import zip\n",
    "from tensorflow.keras import backend as K\n",
    "\n",
    "class AdamW(Adam):\n",
    "    def __init__(self, lr=0.001, beta_1=0.9, beta_2=0.999, weight_decay=1e-4,  # decoupled weight decay (1/6)\n",
    "                 epsilon=1e-8, decay=0., **kwargs):\n",
    "        super(AdamW, self).__init__(**kwargs)\n",
    "        with K.name_scope(self.__class__.__name__):\n",
    "            self.iterations = K.variable(0, dtype='int64', name='iterations')\n",
    "            self.lr = K.variable(lr, name='lr')\n",
    "            self.init_lr = lr # decoupled weight decay (2/6)\n",
    "            self.beta_1 = K.variable(beta_1, name='beta_1')\n",
    "            self.beta_2 = K.variable(beta_2, name='beta_2')\n",
    "            self.decay = K.variable(decay, name='decay')\n",
    "            self.wd = K.variable(weight_decay, name='weight_decay') # decoupled weight decay (3/6)\n",
    "        self.epsilon = epsilon\n",
    "        self.initial_decay = decay\n",
    "\n",
    "    def get_updates(self, loss, params):\n",
    "        grads = self.get_gradients(loss, params)\n",
    "        self.updates = [K.update_add(self.iterations, 1)]\n",
    "        wd = self.wd # decoupled weight decay (4/6)\n",
    "\n",
    "        lr = self.lr\n",
    "        if self.initial_decay > 0:\n",
    "            lr *= (1. / (1. + self.decay * K.cast(self.iterations,\n",
    "                                                  K.dtype(self.decay))))\n",
    "        eta_t = lr / self.init_lr # decoupled weight decay (5/6)\n",
    "\n",
    "        t = K.cast(self.iterations, K.floatx()) + 1\n",
    "        lr_t = lr * (K.sqrt(1. - K.pow(self.beta_2, t)) /\n",
    "                     (1. - K.pow(self.beta_1, t)))\n",
    "\n",
    "        ms = [K.zeros(K.int_shape(p), dtype=K.dtype(p)) for p in params]\n",
    "        vs = [K.zeros(K.int_shape(p), dtype=K.dtype(p)) for p in params]\n",
    "        self.weights = [self.iterations] + ms + vs\n",
    "\n",
    "        for p, g, m, v in zip(params, grads, ms, vs):\n",
    "            m_t = (self.beta_1 * m) + (1. - self.beta_1) * g\n",
    "            v_t = (self.beta_2 * v) + (1. - self.beta_2) * K.square(g)\n",
    "            p_t = p - lr_t * m_t / (K.sqrt(v_t) + self.epsilon) - eta_t * wd * p # decoupled weight decay (6/6)\n",
    "\n",
    "            self.updates.append(K.update(m, m_t))\n",
    "            self.updates.append(K.update(v, v_t))\n",
    "            new_p = p_t\n",
    "\n",
    "            # Apply constraints.\n",
    "            if getattr(p, 'constraint', None) is not None:\n",
    "                new_p = p.constraint(new_p)\n",
    "\n",
    "            self.updates.append(K.update(p, new_p))\n",
    "        return self.updates\n",
    "\n",
    "    def get_config(self):\n",
    "        config = {'lr': float(K.get_value(self.lr)),\n",
    "                  'beta_1': float(K.get_value(self.beta_1)),\n",
    "                  'beta_2': float(K.get_value(self.beta_2)),\n",
    "                  'decay': float(K.get_value(self.decay)),\n",
    "                  'weight_decay': float(K.get_value(self.wd)),\n",
    "                  'epsilon': self.epsilon}\n",
    "        base_config = super(AdamW, self).get_config()\n",
    "        return dict(list(base_config.items()) + list(config.items()))\n",
    "\n",
    "adamw= AdamW(lr=0.001, beta_1=0.9, beta_2=0.999, weight_decay=1e-4, epsilon=1e-8, decay=0.)"
   ]
  },
  {
   "cell_type": "markdown",
   "id": "b32b99fd",
   "metadata": {},
   "source": [
    "### AdamW API\n",
    "### TensorFlow Addons 이용해서 쓸 수 있음. 이게 베스트 노트북에서 확인함.\n",
    "### https://www.tensorflow.org/addons/overview?hl=ko"
   ]
  },
  {
   "cell_type": "code",
   "execution_count": null,
   "id": "9441cf15",
   "metadata": {},
   "outputs": [],
   "source": [
    "import tensorflow_addons as tfa\n",
    "optimizer = tfa.optimizers.AdamW(learning_rate=0.001, weight_decay=0.05)"
   ]
  },
  {
   "cell_type": "markdown",
   "id": "79fe34c9",
   "metadata": {},
   "source": [
    "### 각종 Callback"
   ]
  },
  {
   "cell_type": "code",
   "execution_count": null,
   "id": "9f8b49d0",
   "metadata": {},
   "outputs": [],
   "source": [
    "model_folder = '.1/cal/2-2_inceptionV3/'\n",
    "model_path = model_folder + '{epoch:02d}-{val_loss:.4f}.hdf5'\n",
    "\n",
    "\n",
    "check_point = ModelCheckpoint(model_path, monitor = 'val_accuracy', save_best_only=False)\n",
    "early_stopping = EarlyStopping(monitor = 'val_accuracy', mode = 'max', patience=60, restore_best_weights=True)"
   ]
  }
 ],
 "metadata": {
  "kernelspec": {
   "display_name": "Python 3",
   "language": "python",
   "name": "python3"
  },
  "language_info": {
   "codemirror_mode": {
    "name": "ipython",
    "version": 3
   },
   "file_extension": ".py",
   "mimetype": "text/x-python",
   "name": "python",
   "nbconvert_exporter": "python",
   "pygments_lexer": "ipython3",
   "version": "3.8.8"
  }
 },
 "nbformat": 4,
 "nbformat_minor": 5
}
