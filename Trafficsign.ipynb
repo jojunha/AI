{
 "cells": [
  {
   "cell_type": "markdown",
   "id": "22c89655",
   "metadata": {},
   "source": [
    "https://www.kaggle.com/meowmeowmeowmeowmeow/gtsrb-german-traffic-sign\n",
    "교통 표지판 분류"
   ]
  },
  {
   "cell_type": "code",
   "execution_count": 13,
   "id": "7139cf75",
   "metadata": {},
   "outputs": [],
   "source": [
    "import os\n",
    "import numpy as np\n",
    "import matplotlib.pyplot as plt\n",
    "from sklearn.model_selection import train_test_split\n",
    "from tensorflow.keras.preprocessing import image\n",
    "from tensorflow.keras.preprocessing.image import ImageDataGenerator, img_to_array, array_to_img, load_img\n",
    "from tensorflow.keras.layers import Conv2D, MaxPool2D, Dense, Flatten, Dropout, BatchNormalization\n",
    "from tensorflow.keras.models import Sequential\n",
    "import pandas as pd\n",
    "import seaborn as sns"
   ]
  },
  {
   "cell_type": "code",
   "execution_count": 25,
   "id": "225bc314",
   "metadata": {},
   "outputs": [
    {
     "data": {
      "text/plain": [
       "'C:/Users/s_wnsgk4041/data/1/'"
      ]
     },
     "execution_count": 25,
     "metadata": {},
     "output_type": "execute_result"
    }
   ],
   "source": [
    "file_list = os.listdir('C:/Users/s_wnsgk4041/data/1/')\n",
    "file_list\n",
    "directory = 'C:/Users/s_wnsgk4041/data/1/'\n",
    "directory"
   ]
  },
  {
   "cell_type": "code",
   "execution_count": 26,
   "id": "9bbec62b",
   "metadata": {},
   "outputs": [
    {
     "data": {
      "text/plain": [
       "'C:/Users/s_wnsgk4041/data/1/Meta.csv'"
      ]
     },
     "execution_count": 26,
     "metadata": {},
     "output_type": "execute_result"
    }
   ],
   "source": [
    "directory + 'Meta.csv'"
   ]
  },
  {
   "cell_type": "code",
   "execution_count": 27,
   "id": "474d261d",
   "metadata": {},
   "outputs": [
    {
     "data": {
      "image/png": "[encoded data removed]",
      "text/plain": [
       "<Figure size 1440x720 with 1 Axes>"
      ]
     },
     "metadata": {
      "needs_background": "light"
     },
     "output_type": "display_data"
    }
   ],
   "source": [
    "df_Meta = pd.read_csv(directory + 'Meta.csv')\n",
    "\n",
    "df_Train = pd.read_csv(directory + 'Train.csv')\n",
    "df_Test = pd.read_csv(directory + 'Test.csv')\n",
    "\n",
    "plt.figure(figsize=(20,10))\n",
    "ax = sns.countplot(x=\"Width\", data=df_Train) # png 파일 크기 "
   ]
  },
  {
   "cell_type": "code",
   "execution_count": 28,
   "id": "97512afd",
   "metadata": {},
   "outputs": [
    {
     "data": {
      "text/html": [
       "<div>\n",
       "<style scoped>\n",
       "    .dataframe tbody tr th:only-of-type {\n",
       "        vertical-align: middle;\n",
       "    }\n",
       "\n",
       "    .dataframe tbody tr th {\n",
       "        vertical-align: top;\n",
       "    }\n",
       "\n",
       "    .dataframe thead th {\n",
       "        text-align: right;\n",
       "    }\n",
       "</style>\n",
       "<table border=\"1\" class=\"dataframe\">\n",
       "  <thead>\n",
       "    <tr style=\"text-align: right;\">\n",
       "      <th></th>\n",
       "      <th>Width</th>\n",
       "      <th>Height</th>\n",
       "      <th>Roi.X1</th>\n",
       "      <th>Roi.Y1</th>\n",
       "      <th>Roi.X2</th>\n",
       "      <th>Roi.Y2</th>\n",
       "      <th>ClassId</th>\n",
       "      <th>Path</th>\n",
       "    </tr>\n",
       "  </thead>\n",
       "  <tbody>\n",
       "    <tr>\n",
       "      <th>0</th>\n",
       "      <td>27</td>\n",
       "      <td>26</td>\n",
       "      <td>5</td>\n",
       "      <td>5</td>\n",
       "      <td>22</td>\n",
       "      <td>20</td>\n",
       "      <td>20</td>\n",
       "      <td>Train/20/00020_00000_00000.png</td>\n",
       "    </tr>\n",
       "    <tr>\n",
       "      <th>1</th>\n",
       "      <td>28</td>\n",
       "      <td>27</td>\n",
       "      <td>5</td>\n",
       "      <td>6</td>\n",
       "      <td>23</td>\n",
       "      <td>22</td>\n",
       "      <td>20</td>\n",
       "      <td>Train/20/00020_00000_00001.png</td>\n",
       "    </tr>\n",
       "    <tr>\n",
       "      <th>2</th>\n",
       "      <td>29</td>\n",
       "      <td>26</td>\n",
       "      <td>6</td>\n",
       "      <td>5</td>\n",
       "      <td>24</td>\n",
       "      <td>21</td>\n",
       "      <td>20</td>\n",
       "      <td>Train/20/00020_00000_00002.png</td>\n",
       "    </tr>\n",
       "    <tr>\n",
       "      <th>3</th>\n",
       "      <td>28</td>\n",
       "      <td>27</td>\n",
       "      <td>5</td>\n",
       "      <td>6</td>\n",
       "      <td>23</td>\n",
       "      <td>22</td>\n",
       "      <td>20</td>\n",
       "      <td>Train/20/00020_00000_00003.png</td>\n",
       "    </tr>\n",
       "    <tr>\n",
       "      <th>4</th>\n",
       "      <td>28</td>\n",
       "      <td>26</td>\n",
       "      <td>5</td>\n",
       "      <td>5</td>\n",
       "      <td>23</td>\n",
       "      <td>21</td>\n",
       "      <td>20</td>\n",
       "      <td>Train/20/00020_00000_00004.png</td>\n",
       "    </tr>\n",
       "    <tr>\n",
       "      <th>...</th>\n",
       "      <td>...</td>\n",
       "      <td>...</td>\n",
       "      <td>...</td>\n",
       "      <td>...</td>\n",
       "      <td>...</td>\n",
       "      <td>...</td>\n",
       "      <td>...</td>\n",
       "      <td>...</td>\n",
       "    </tr>\n",
       "    <tr>\n",
       "      <th>39204</th>\n",
       "      <td>52</td>\n",
       "      <td>56</td>\n",
       "      <td>5</td>\n",
       "      <td>6</td>\n",
       "      <td>47</td>\n",
       "      <td>51</td>\n",
       "      <td>42</td>\n",
       "      <td>Train/42/00042_00007_00025.png</td>\n",
       "    </tr>\n",
       "    <tr>\n",
       "      <th>39205</th>\n",
       "      <td>56</td>\n",
       "      <td>58</td>\n",
       "      <td>5</td>\n",
       "      <td>5</td>\n",
       "      <td>51</td>\n",
       "      <td>53</td>\n",
       "      <td>42</td>\n",
       "      <td>Train/42/00042_00007_00026.png</td>\n",
       "    </tr>\n",
       "    <tr>\n",
       "      <th>39206</th>\n",
       "      <td>58</td>\n",
       "      <td>62</td>\n",
       "      <td>5</td>\n",
       "      <td>6</td>\n",
       "      <td>53</td>\n",
       "      <td>57</td>\n",
       "      <td>42</td>\n",
       "      <td>Train/42/00042_00007_00027.png</td>\n",
       "    </tr>\n",
       "    <tr>\n",
       "      <th>39207</th>\n",
       "      <td>63</td>\n",
       "      <td>69</td>\n",
       "      <td>5</td>\n",
       "      <td>7</td>\n",
       "      <td>58</td>\n",
       "      <td>63</td>\n",
       "      <td>42</td>\n",
       "      <td>Train/42/00042_00007_00028.png</td>\n",
       "    </tr>\n",
       "    <tr>\n",
       "      <th>39208</th>\n",
       "      <td>68</td>\n",
       "      <td>69</td>\n",
       "      <td>7</td>\n",
       "      <td>6</td>\n",
       "      <td>62</td>\n",
       "      <td>63</td>\n",
       "      <td>42</td>\n",
       "      <td>Train/42/00042_00007_00029.png</td>\n",
       "    </tr>\n",
       "  </tbody>\n",
       "</table>\n",
       "<p>39209 rows × 8 columns</p>\n",
       "</div>"
      ],
      "text/plain": [
       "       Width  Height  Roi.X1  Roi.Y1  Roi.X2  Roi.Y2  ClassId  \\\n",
       "0         27      26       5       5      22      20       20   \n",
       "1         28      27       5       6      23      22       20   \n",
       "2         29      26       6       5      24      21       20   \n",
       "3         28      27       5       6      23      22       20   \n",
       "4         28      26       5       5      23      21       20   \n",
       "...      ...     ...     ...     ...     ...     ...      ...   \n",
       "39204     52      56       5       6      47      51       42   \n",
       "39205     56      58       5       5      51      53       42   \n",
       "39206     58      62       5       6      53      57       42   \n",
       "39207     63      69       5       7      58      63       42   \n",
       "39208     68      69       7       6      62      63       42   \n",
       "\n",
       "                                 Path  \n",
       "0      Train/20/00020_00000_00000.png  \n",
       "1      Train/20/00020_00000_00001.png  \n",
       "2      Train/20/00020_00000_00002.png  \n",
       "3      Train/20/00020_00000_00003.png  \n",
       "4      Train/20/00020_00000_00004.png  \n",
       "...                               ...  \n",
       "39204  Train/42/00042_00007_00025.png  \n",
       "39205  Train/42/00042_00007_00026.png  \n",
       "39206  Train/42/00042_00007_00027.png  \n",
       "39207  Train/42/00042_00007_00028.png  \n",
       "39208  Train/42/00042_00007_00029.png  \n",
       "\n",
       "[39209 rows x 8 columns]"
      ]
     },
     "execution_count": 28,
     "metadata": {},
     "output_type": "execute_result"
    }
   ],
   "source": [
    "df_Train"
   ]
  },
  {
   "cell_type": "code",
   "execution_count": 30,
   "id": "dda8faf2",
   "metadata": {},
   "outputs": [],
   "source": [
    "image_height = 34\n",
    "image_width = 34\n",
    "image_channel = 3\n",
    "\n",
    "Train_images = []\n",
    "Train_labels = []\n",
    "\n",
    "for i in range(len(df_Train)):\n",
    "    img = load_img(directory + df_Train['Path'][i], target_size = (image_height, image_width))\n",
    "    img = img_to_array(img)\n",
    "    Train_labels.append(df_Train['ClassId'][i])\n",
    "    Train_images.append(img)"
   ]
  },
  {
   "cell_type": "code",
   "execution_count": 31,
   "id": "f19d6da7",
   "metadata": {},
   "outputs": [],
   "source": [
    "Test_images = []\n",
    "Test_labels = []\n",
    "\n",
    "for i in range(len(df_Test)):\n",
    "    img = load_img(directory + df_Test['Path'][i], target_size = (image_height, image_width))\n",
    "    img = img_to_array(img)\n",
    "    Test_labels.append(df_Test['ClassId'][i])\n",
    "    Test_images.append(img)"
   ]
  },
  {
   "cell_type": "code",
   "execution_count": 36,
   "id": "6f52d6c6",
   "metadata": {},
   "outputs": [],
   "source": [
    "x_train, x_val, y_train, y_val = train_test_split(np.array(Train_images), np.array(Train_labels), test_size=0.4)\n",
    "x_test = np.array(Test_images)\n",
    "y_test = np.array(Test_labels)\n",
    "\n",
    "x_train = x_train.astype('float32')/255.0\n",
    "x_val = x_val.astype('float32')/255.0\n",
    "x_test = x_test.astype('float32')/255.0\n"
   ]
  },
  {
   "cell_type": "code",
   "execution_count": 1,
   "id": "ce0f9c70",
   "metadata": {},
   "outputs": [
    {
     "ename": "NameError",
     "evalue": "name 'Sequential' is not defined",
     "output_type": "error",
     "traceback": [
      "\u001b[1;31m---------------------------------------------------------------------------\u001b[0m",
      "\u001b[1;31mNameError\u001b[0m                                 Traceback (most recent call last)",
      "\u001b[1;32m<ipython-input-1-8c01623e30cd>\u001b[0m in \u001b[0;36m<module>\u001b[1;34m\u001b[0m\n\u001b[1;32m----> 1\u001b[1;33m model = Sequential([    \n\u001b[0m\u001b[0;32m      2\u001b[0m     \u001b[0mConv2D\u001b[0m\u001b[1;33m(\u001b[0m\u001b[0mfilters\u001b[0m\u001b[1;33m=\u001b[0m\u001b[1;36m32\u001b[0m\u001b[1;33m,\u001b[0m \u001b[0mkernel_size\u001b[0m\u001b[1;33m=\u001b[0m\u001b[1;33m(\u001b[0m\u001b[1;36m3\u001b[0m\u001b[1;33m,\u001b[0m\u001b[1;36m3\u001b[0m\u001b[1;33m)\u001b[0m\u001b[1;33m,\u001b[0m \u001b[0mpadding\u001b[0m \u001b[1;33m=\u001b[0m \u001b[1;34m'same'\u001b[0m\u001b[1;33m,\u001b[0m \u001b[0mactivation\u001b[0m\u001b[1;33m=\u001b[0m\u001b[1;34m'relu'\u001b[0m\u001b[1;33m,\u001b[0m \u001b[0minput_shape\u001b[0m\u001b[1;33m=\u001b[0m\u001b[1;33m(\u001b[0m\u001b[0mimage_height\u001b[0m\u001b[1;33m,\u001b[0m \u001b[0mimage_width\u001b[0m\u001b[1;33m,\u001b[0m \u001b[0mimage_channel\u001b[0m\u001b[1;33m)\u001b[0m\u001b[1;33m)\u001b[0m\u001b[1;33m,\u001b[0m\u001b[1;33m\u001b[0m\u001b[1;33m\u001b[0m\u001b[0m\n\u001b[0;32m      3\u001b[0m     \u001b[0mConv2D\u001b[0m\u001b[1;33m(\u001b[0m\u001b[0mfilters\u001b[0m\u001b[1;33m=\u001b[0m\u001b[1;36m64\u001b[0m\u001b[1;33m,\u001b[0m \u001b[0mkernel_size\u001b[0m\u001b[1;33m=\u001b[0m\u001b[1;33m(\u001b[0m\u001b[1;36m3\u001b[0m\u001b[1;33m,\u001b[0m\u001b[1;36m3\u001b[0m\u001b[1;33m)\u001b[0m\u001b[1;33m,\u001b[0m \u001b[0mpadding\u001b[0m \u001b[1;33m=\u001b[0m \u001b[1;34m'same'\u001b[0m\u001b[1;33m,\u001b[0m \u001b[0mactivation\u001b[0m\u001b[1;33m=\u001b[0m\u001b[1;34m'relu'\u001b[0m\u001b[1;33m)\u001b[0m\u001b[1;33m,\u001b[0m\u001b[1;33m\u001b[0m\u001b[1;33m\u001b[0m\u001b[0m\n\u001b[0;32m      4\u001b[0m     \u001b[0mBatchNormalization\u001b[0m\u001b[1;33m(\u001b[0m\u001b[1;33m)\u001b[0m\u001b[1;33m,\u001b[0m\u001b[1;33m\u001b[0m\u001b[1;33m\u001b[0m\u001b[0m\n\u001b[0;32m      5\u001b[0m     \u001b[0mConv2D\u001b[0m\u001b[1;33m(\u001b[0m\u001b[0mfilters\u001b[0m\u001b[1;33m=\u001b[0m\u001b[1;36m128\u001b[0m\u001b[1;33m,\u001b[0m \u001b[0mkernel_size\u001b[0m\u001b[1;33m=\u001b[0m\u001b[1;33m(\u001b[0m\u001b[1;36m3\u001b[0m\u001b[1;33m,\u001b[0m\u001b[1;36m3\u001b[0m\u001b[1;33m)\u001b[0m\u001b[1;33m,\u001b[0m \u001b[0mpadding\u001b[0m \u001b[1;33m=\u001b[0m \u001b[1;34m'same'\u001b[0m\u001b[1;33m,\u001b[0m \u001b[0mactivation\u001b[0m\u001b[1;33m=\u001b[0m\u001b[1;34m'relu'\u001b[0m\u001b[1;33m)\u001b[0m\u001b[1;33m,\u001b[0m\u001b[1;33m\u001b[0m\u001b[1;33m\u001b[0m\u001b[0m\n",
      "\u001b[1;31mNameError\u001b[0m: name 'Sequential' is not defined"
     ]
    }
   ],
   "source": [
    "model = Sequential([    \n",
    "    Conv2D(filters=32, kernel_size=(3,3), padding = 'same', activation='relu', input_shape=(image_height, image_width, image_channel)),\n",
    "    Conv2D(filters=64, kernel_size=(3,3), padding = 'same', activation='relu'),\n",
    "    BatchNormalization(),\n",
    "    Conv2D(filters=128, kernel_size=(3,3), padding = 'same', activation='relu'),\n",
    "    MaxPool2D(pool_size=(2, 2), strides = (2,2)),\n",
    "    Dropout(rate=0.3),\n",
    "    \n",
    "    Conv2D(filters=128, kernel_size=(3,3), padding = 'same', activation='relu'),\n",
    "    Conv2D(filters=256, kernel_size=(3,3), padding = 'same', activation='relu'),\n",
    "    BatchNormalization(),\n",
    "    Conv2D(filters=512, kernel_size=(3,3), padding = 'same', activation='relu'),\n",
    "    MaxPool2D(pool_size=(2, 2), strides = (2,2)),\n",
    "    Dropout(rate=0.5),\n",
    "    \n",
    "    Flatten(),\n",
    "    Dense(1024, activation='relu'),\n",
    "    BatchNormalization(),\n",
    "    Dropout(rate=0.4),\n",
    "    Dense(512, activation='relu'),\n",
    "    Dropout(rate=0.4),\n",
    "    Dense(43, activation='softmax')\n",
    "])\n",
    "\n",
    "model.summary()"
   ]
  },
  {
   "cell_type": "code",
   "execution_count": 38,
   "id": "fe6b4c0c",
   "metadata": {},
   "outputs": [],
   "source": [
    "model.compile(\n",
    "    loss='sparse_categorical_crossentropy',\n",
    "    optimizer='adam',\n",
    "    metrics=['accuracy']\n",
    ")"
   ]
  },
  {
   "cell_type": "code",
   "execution_count": 39,
   "id": "1f171bf4",
   "metadata": {},
   "outputs": [
    {
     "name": "stdout",
     "output_type": "stream",
     "text": [
      "Epoch 1/20\n",
      "736/736 [==============================] - 36s 40ms/step - loss: 2.4771 - accuracy: 0.4049 - val_loss: 0.4094 - val_accuracy: 0.8800\n",
      "Epoch 2/20\n",
      "736/736 [==============================] - 29s 39ms/step - loss: 0.1890 - accuracy: 0.9410 - val_loss: 0.1353 - val_accuracy: 0.9628\n",
      "Epoch 3/20\n",
      "736/736 [==============================] - 28s 38ms/step - loss: 0.1020 - accuracy: 0.9670 - val_loss: 0.1022 - val_accuracy: 0.9683\n",
      "Epoch 4/20\n",
      "736/736 [==============================] - 28s 38ms/step - loss: 0.1086 - accuracy: 0.9667 - val_loss: 0.0432 - val_accuracy: 0.9869\n",
      "Epoch 5/20\n",
      "736/736 [==============================] - 28s 38ms/step - loss: 0.0698 - accuracy: 0.9787 - val_loss: 0.0682 - val_accuracy: 0.9816\n",
      "Epoch 6/20\n",
      "736/736 [==============================] - 29s 39ms/step - loss: 0.0647 - accuracy: 0.9803 - val_loss: 0.0362 - val_accuracy: 0.9900\n",
      "Epoch 7/20\n",
      "736/736 [==============================] - 29s 39ms/step - loss: 0.0545 - accuracy: 0.9836 - val_loss: 0.0477 - val_accuracy: 0.9874\n",
      "Epoch 8/20\n",
      "736/736 [==============================] - 29s 39ms/step - loss: 0.1288 - accuracy: 0.9652 - val_loss: 0.1539 - val_accuracy: 0.9544\n",
      "Epoch 9/20\n",
      "736/736 [==============================] - 28s 38ms/step - loss: 0.0409 - accuracy: 0.9869 - val_loss: 0.0397 - val_accuracy: 0.9896\n",
      "Epoch 10/20\n",
      "736/736 [==============================] - 29s 39ms/step - loss: 0.0578 - accuracy: 0.9843 - val_loss: 0.0446 - val_accuracy: 0.9900\n",
      "Epoch 11/20\n",
      "736/736 [==============================] - 28s 39ms/step - loss: 0.0362 - accuracy: 0.9904 - val_loss: 0.0312 - val_accuracy: 0.9921362 - accuracy\n",
      "Epoch 12/20\n",
      "736/736 [==============================] - 28s 38ms/step - loss: 0.0257 - accuracy: 0.9932 - val_loss: 0.0347 - val_accuracy: 0.9914\n",
      "Epoch 13/20\n",
      "736/736 [==============================] - 28s 38ms/step - loss: 0.0411 - accuracy: 0.9903 - val_loss: 0.0329 - val_accuracy: 0.9906\n",
      "Epoch 14/20\n",
      "736/736 [==============================] - 28s 38ms/step - loss: 0.0413 - accuracy: 0.9909 - val_loss: 0.0879 - val_accuracy: 0.9858\n",
      "Epoch 15/20\n",
      "736/736 [==============================] - 28s 38ms/step - loss: 0.0321 - accuracy: 0.9920 - val_loss: 0.3005 - val_accuracy: 0.9901\n",
      "Epoch 16/20\n",
      "736/736 [==============================] - 28s 38ms/step - loss: 0.0353 - accuracy: 0.9904 - val_loss: 0.0158 - val_accuracy: 0.9958\n",
      "Epoch 17/20\n",
      "736/736 [==============================] - 28s 38ms/step - loss: 0.0231 - accuracy: 0.9930 - val_loss: 0.0230 - val_accuracy: 0.9959\n",
      "Epoch 18/20\n",
      "736/736 [==============================] - 28s 39ms/step - loss: 0.0365 - accuracy: 0.9904 - val_loss: 0.0271 - val_accuracy: 0.9934\n",
      "Epoch 19/20\n",
      "736/736 [==============================] - 28s 39ms/step - loss: 0.0275 - accuracy: 0.9937 - val_loss: 0.0336 - val_accuracy: 0.9931\n",
      "Epoch 20/20\n",
      "736/736 [==============================] - 29s 39ms/step - loss: 0.0197 - accuracy: 0.9950 - val_loss: 0.0503 - val_accuracy: 0.9868\n"
     ]
    }
   ],
   "source": [
    "EPOCHS = 20\n",
    "\n",
    "history = model.fit(x_train, \n",
    "                    y_train,\n",
    "                    validation_data = (x_val, y_val), # validation 데이터 사용\n",
    "                    epochs=EPOCHS, \n",
    "                   )"
   ]
  },
  {
   "cell_type": "code",
   "execution_count": 42,
   "id": "6124c851",
   "metadata": {},
   "outputs": [
    {
     "data": {
      "image/png": "[encoded data removed]",
      "text/plain": [
       "<Figure size 1152x576 with 2 Axes>"
      ]
     },
     "metadata": {
      "needs_background": "light"
     },
     "output_type": "display_data"
    }
   ],
   "source": [
    "accuracy = history.history['accuracy']\n",
    "val_accuracy = history.history['val_accuracy']\n",
    "\n",
    "loss=history.history['loss']\n",
    "val_loss=history.history['val_loss']\n",
    "\n",
    "epochs_range = range(EPOCHS)\n",
    "\n",
    "plt.figure(figsize=(16, 8))\n",
    "plt.subplot(1, 2, 1)\n",
    "plt.plot(epochs_range, accuracy, label='Training Accuracy')\n",
    "plt.plot(epochs_range, val_accuracy, label='Validation Accuracy')\n",
    "plt.legend(loc='lower right')\n",
    "plt.title('Training and Validation Accuracy')\n",
    "\n",
    "plt.subplot(1, 2, 2)\n",
    "plt.plot(epochs_range, loss, label='Training Loss')\n",
    "plt.plot(epochs_range, val_loss, label='Validation Loss')\n",
    "plt.legend(loc='upper right')\n",
    "plt.title('Training and Validation Loss')\n",
    "plt.show()"
   ]
  },
  {
   "cell_type": "code",
   "execution_count": 43,
   "id": "f0afcd07",
   "metadata": {},
   "outputs": [
    {
     "name": "stdout",
     "output_type": "stream",
     "text": [
      "test set accuracy:  0.9601742029190063\n"
     ]
    }
   ],
   "source": [
    "test_loss, test_accuracy = model.evaluate(x_test, y_test, verbose=0)\n",
    "\n",
    "print('test set accuracy: ', test_accuracy)"
   ]
  },
  {
   "cell_type": "code",
   "execution_count": null,
   "id": "59e3e20f",
   "metadata": {},
   "outputs": [],
   "source": []
  },
  {
   "cell_type": "code",
   "execution_count": null,
   "id": "93d1d7be",
   "metadata": {},
   "outputs": [],
   "source": []
  }
 ],
 "metadata": {
  "kernelspec": {
   "display_name": "Python 3 (ipykernel)",
   "language": "python",
   "name": "python3"
  },
  "language_info": {
   "codemirror_mode": {
    "name": "ipython",
    "version": 3
   },
   "file_extension": ".py",
   "mimetype": "text/x-python",
   "name": "python",
   "nbconvert_exporter": "python",
   "pygments_lexer": "ipython3",
   "version": "3.7.11"
  }
 },
 "nbformat": 4,
 "nbformat_minor": 5
}
