{
 "cells": [
  {
   "cell_type": "markdown",
   "id": "8a96beac",
   "metadata": {},
   "source": [
    "https://www.kaggle.com/paultimothymooney/chest-xray-pneumonia \n",
    "x-ray data 폐렴 구분 AI 모델\n",
    "2.2 : NOMAL, PNEUMONIA 2진분류 => NOMAL, VIRAL PNEUMONIA, VACTERIAL PNEUMONIA"
   ]
  },
  {
   "cell_type": "code",
   "execution_count": 1,
   "id": "6f49bddc",
   "metadata": {},
   "outputs": [
    {
     "name": "stdout",
     "output_type": "stream",
     "text": [
      "[name: \"/device:CPU:0\"\n",
      "device_type: \"CPU\"\n",
      "memory_limit: 268435456\n",
      "locality {\n",
      "}\n",
      "incarnation: 6847038315138450995\n",
      ", name: \"/device:GPU:0\"\n",
      "device_type: \"GPU\"\n",
      "memory_limit: 4975187744\n",
      "locality {\n",
      "  bus_id: 1\n",
      "  links {\n",
      "  }\n",
      "}\n",
      "incarnation: 10943671604087197366\n",
      "physical_device_desc: \"device: 0, name: NVIDIA GeForce GTX 1660 SUPER, pci bus id: 0000:01:00.0, compute capability: 7.5\"\n",
      "]\n"
     ]
    }
   ],
   "source": [
    "from tensorflow.python.client import device_lib\n",
    "print(device_lib.list_local_devices())"
   ]
  },
  {
   "cell_type": "code",
   "execution_count": 10,
   "id": "4e0ed39c",
   "metadata": {},
   "outputs": [],
   "source": [
    "import os\n",
    "import numpy as np\n",
    "import matplotlib.pyplot as plt\n",
    "from sklearn.model_selection import train_test_split\n",
    "\n",
    "from tensorflow.keras.preprocessing import image\n",
    "from tensorflow.keras.preprocessing.image import ImageDataGenerator, img_to_array, array_to_img, load_img\n",
    "from tensorflow.keras.layers import Conv2D, MaxPool2D, Dense, Flatten, Dropout, BatchNormalization, GlobalAveragePooling2D\n",
    "from tensorflow.keras.models import Sequential\n",
    "from tensorflow.keras.callbacks import EarlyStopping, ModelCheckpoint\n",
    "from tensorflow.keras.models import Model, load_model\n",
    "from tensorflow.keras.applications import VGG16\n",
    "\n",
    "import pandas as pd\n",
    "import seaborn as sns\n",
    "import numpy as np\n"
   ]
  },
  {
   "cell_type": "code",
   "execution_count": 11,
   "id": "c77c742a",
   "metadata": {},
   "outputs": [
    {
     "name": "stdout",
     "output_type": "stream",
     "text": [
      "4762\n",
      "472\n"
     ]
    }
   ],
   "source": [
    "train_data_dir = 'C:/Users/s_wnsgk4041/data/2.2/train'\n",
    "validation_data_dir = 'C:/Users/s_wnsgk4041/data/2.2/val'\n",
    "test_data_dir = 'C:/Users/s_wnsgk4041/data/2.2/test'\n",
    "\n",
    "nb_train_samples = len(os.listdir('C:/Users/s_wnsgk4041/data/2.2/train/NORMAL/')) + len(os.listdir('C:/Users/s_wnsgk4041/data/2.2/train/VIRAL/')) + len(os.listdir('C:/Users/s_wnsgk4041/data/2.2/train/BACTERIAL/'))\n",
    "nb_validation_samples = len(os.listdir('C:/Users/s_wnsgk4041/data/2.2/val/NORMAL/')) + len(os.listdir('C:/Users/s_wnsgk4041/data/2.2/val/VIRAL/')) + len(os.listdir('C:/Users/s_wnsgk4041/data/2.2/val/BACTERIAL/'))\n",
    "print(nb_train_samples)\n",
    "print(nb_validation_samples)"
   ]
  },
  {
   "cell_type": "code",
   "execution_count": 12,
   "id": "cd6425f1",
   "metadata": {},
   "outputs": [
    {
     "name": "stdout",
     "output_type": "stream",
     "text": [
      "[1201, 1198, 2363]\n"
     ]
    },
    {
     "data": {
      "image/png": "[encoded data removed]",
      "text/plain": [
       "<Figure size 432x288 with 1 Axes>"
      ]
     },
     "metadata": {
      "needs_background": "light"
     },
     "output_type": "display_data"
    }
   ],
   "source": [
    "label = ['NORMAL','VIRAL', 'BACTERIAL']\n",
    "\n",
    "train_counts = [len(os.listdir('C:/Users/s_wnsgk4041/data/2.2/train/NORMAL/')), len(os.listdir('C:/Users/s_wnsgk4041/data/2.2/train/VIRAL/')), len(os.listdir('C:/Users/s_wnsgk4041/data/2.2/train/BACTERIAL/'))]\n",
    "print(train_counts)\n",
    "\n",
    "plt.bar(label, train_counts)\n",
    "plt.title('Train Data Counts')\n",
    "plt.show()"
   ]
  },
  {
   "cell_type": "code",
   "execution_count": 13,
   "id": "6f8a0cbb",
   "metadata": {},
   "outputs": [
    {
     "name": "stdout",
     "output_type": "stream",
     "text": [
      "[148, 149, 175]\n"
     ]
    },
    {
     "data": {
      "image/png": "[encoded data removed]",
      "text/plain": [
       "<Figure size 432x288 with 1 Axes>"
      ]
     },
     "metadata": {
      "needs_background": "light"
     },
     "output_type": "display_data"
    }
   ],
   "source": [
    "val_counts = [len(os.listdir('C:/Users/s_wnsgk4041/data/2.2/val/NORMAL/')), len(os.listdir('C:/Users/s_wnsgk4041/data/2.2/val/VIRAL/')), len(os.listdir('C:/Users/s_wnsgk4041/data/2.2/val/BACTERIAL/'))]\n",
    "print(val_counts)\n",
    "\n",
    "\n",
    "plt.bar(label, val_counts)\n",
    "plt.title('Validation Data Counts')\n",
    "plt.show()"
   ]
  },
  {
   "cell_type": "code",
   "execution_count": 14,
   "id": "e1eb0b4a",
   "metadata": {},
   "outputs": [
    {
     "name": "stdout",
     "output_type": "stream",
     "text": [
      "[234, 148, 242]\n"
     ]
    },
    {
     "data": {
      "image/png": "[encoded data removed]",
      "text/plain": [
       "<Figure size 432x288 with 1 Axes>"
      ]
     },
     "metadata": {
      "needs_background": "light"
     },
     "output_type": "display_data"
    }
   ],
   "source": [
    "test_counts = [len(os.listdir('C:/Users/s_wnsgk4041/data/2.2/test/NORMAL/')), len(os.listdir('C:/Users/s_wnsgk4041/data/2.2/test/VIRAL/')), len(os.listdir('C:/Users/s_wnsgk4041/data/2.2/test/BACTERIAL/'))]\n",
    "print(test_counts)\n",
    "\n",
    "plt.bar(label, test_counts)\n",
    "plt.title('Test Data Counts')\n",
    "plt.show()"
   ]
  },
  {
   "cell_type": "code",
   "execution_count": 15,
   "id": "cf915bff",
   "metadata": {},
   "outputs": [],
   "source": [
    "img_width = 250\n",
    "img_height = 300\n",
    "img_channel = 3"
   ]
  },
  {
   "cell_type": "code",
   "execution_count": 17,
   "id": "d554943f",
   "metadata": {},
   "outputs": [],
   "source": [
    "base_model = VGG16(weights='imagenet', include_top=False, input_shape = (img_height, img_width, img_channel))"
   ]
  },
  {
   "cell_type": "code",
   "execution_count": 18,
   "id": "e1ddbdf6",
   "metadata": {},
   "outputs": [
    {
     "name": "stdout",
     "output_type": "stream",
     "text": [
      "Model: \"vgg16\"\n",
      "_________________________________________________________________\n",
      "Layer (type)                 Output Shape              Param #   \n",
      "=================================================================\n",
      "input_1 (InputLayer)         [(None, 300, 250, 3)]     0         \n",
      "_________________________________________________________________\n",
      "block1_conv1 (Conv2D)        (None, 300, 250, 64)      1792      \n",
      "_________________________________________________________________\n",
      "block1_conv2 (Conv2D)        (None, 300, 250, 64)      36928     \n",
      "_________________________________________________________________\n",
      "block1_pool (MaxPooling2D)   (None, 150, 125, 64)      0         \n",
      "_________________________________________________________________\n",
      "block2_conv1 (Conv2D)        (None, 150, 125, 128)     73856     \n",
      "_________________________________________________________________\n",
      "block2_conv2 (Conv2D)        (None, 150, 125, 128)     147584    \n",
      "_________________________________________________________________\n",
      "block2_pool (MaxPooling2D)   (None, 75, 62, 128)       0         \n",
      "_________________________________________________________________\n",
      "block3_conv1 (Conv2D)        (None, 75, 62, 256)       295168    \n",
      "_________________________________________________________________\n",
      "block3_conv2 (Conv2D)        (None, 75, 62, 256)       590080    \n",
      "_________________________________________________________________\n",
      "block3_conv3 (Conv2D)        (None, 75, 62, 256)       590080    \n",
      "_________________________________________________________________\n",
      "block3_pool (MaxPooling2D)   (None, 37, 31, 256)       0         \n",
      "_________________________________________________________________\n",
      "block4_conv1 (Conv2D)        (None, 37, 31, 512)       1180160   \n",
      "_________________________________________________________________\n",
      "block4_conv2 (Conv2D)        (None, 37, 31, 512)       2359808   \n",
      "_________________________________________________________________\n",
      "block4_conv3 (Conv2D)        (None, 37, 31, 512)       2359808   \n",
      "_________________________________________________________________\n",
      "block4_pool (MaxPooling2D)   (None, 18, 15, 512)       0         \n",
      "_________________________________________________________________\n",
      "block5_conv1 (Conv2D)        (None, 18, 15, 512)       2359808   \n",
      "_________________________________________________________________\n",
      "block5_conv2 (Conv2D)        (None, 18, 15, 512)       2359808   \n",
      "_________________________________________________________________\n",
      "block5_conv3 (Conv2D)        (None, 18, 15, 512)       2359808   \n",
      "_________________________________________________________________\n",
      "block5_pool (MaxPooling2D)   (None, 9, 7, 512)         0         \n",
      "=================================================================\n",
      "Total params: 14,714,688\n",
      "Trainable params: 14,714,688\n",
      "Non-trainable params: 0\n",
      "_________________________________________________________________\n"
     ]
    }
   ],
   "source": [
    "base_model.summary()"
   ]
  },
  {
   "cell_type": "code",
   "execution_count": 19,
   "id": "f0ab276a",
   "metadata": {},
   "outputs": [],
   "source": [
    "x = base_model.output\n",
    "x = GlobalAveragePooling2D()(x)\n",
    "x = Dense(256, activation='relu')(x)\n",
    "x = BatchNormalization()(x)\n",
    "x = Dropout(rate=0.4)(x)\n",
    "x = Dense(64, activation='relu')(x)\n",
    "x = BatchNormalization()(x)\n",
    "x = Dropout(rate=0.4)(x)\n",
    "predictions = Dense(3, activation='softmax')(x)"
   ]
  },
  {
   "cell_type": "code",
   "execution_count": 20,
   "id": "40c669c9",
   "metadata": {},
   "outputs": [],
   "source": [
    "model = Model(inputs=base_model.input, outputs=predictions)"
   ]
  },
  {
   "cell_type": "code",
   "execution_count": 21,
   "id": "ace882fe",
   "metadata": {},
   "outputs": [
    {
     "data": {
      "text/plain": [
       "27"
      ]
     },
     "execution_count": 21,
     "metadata": {},
     "output_type": "execute_result"
    }
   ],
   "source": [
    "len(model.layers)"
   ]
  },
  {
   "cell_type": "code",
   "execution_count": 22,
   "id": "742e0185",
   "metadata": {},
   "outputs": [
    {
     "data": {
      "text/plain": [
       "19"
      ]
     },
     "execution_count": 22,
     "metadata": {},
     "output_type": "execute_result"
    }
   ],
   "source": [
    "len(base_model.layers)"
   ]
  },
  {
   "cell_type": "code",
   "execution_count": 23,
   "id": "78a7ce4b",
   "metadata": {},
   "outputs": [],
   "source": [
    "for i in range(len(model.layers)):\n",
    "    if i < len(base_model.layers):\n",
    "        model.layers[i].trainable = False"
   ]
  },
  {
   "cell_type": "code",
   "execution_count": 24,
   "id": "8c8a0ee1",
   "metadata": {},
   "outputs": [
    {
     "name": "stdout",
     "output_type": "stream",
     "text": [
      "Model: \"model\"\n",
      "_________________________________________________________________\n",
      "Layer (type)                 Output Shape              Param #   \n",
      "=================================================================\n",
      "input_1 (InputLayer)         [(None, 300, 250, 3)]     0         \n",
      "_________________________________________________________________\n",
      "block1_conv1 (Conv2D)        (None, 300, 250, 64)      1792      \n",
      "_________________________________________________________________\n",
      "block1_conv2 (Conv2D)        (None, 300, 250, 64)      36928     \n",
      "_________________________________________________________________\n",
      "block1_pool (MaxPooling2D)   (None, 150, 125, 64)      0         \n",
      "_________________________________________________________________\n",
      "block2_conv1 (Conv2D)        (None, 150, 125, 128)     73856     \n",
      "_________________________________________________________________\n",
      "block2_conv2 (Conv2D)        (None, 150, 125, 128)     147584    \n",
      "_________________________________________________________________\n",
      "block2_pool (MaxPooling2D)   (None, 75, 62, 128)       0         \n",
      "_________________________________________________________________\n",
      "block3_conv1 (Conv2D)        (None, 75, 62, 256)       295168    \n",
      "_________________________________________________________________\n",
      "block3_conv2 (Conv2D)        (None, 75, 62, 256)       590080    \n",
      "_________________________________________________________________\n",
      "block3_conv3 (Conv2D)        (None, 75, 62, 256)       590080    \n",
      "_________________________________________________________________\n",
      "block3_pool (MaxPooling2D)   (None, 37, 31, 256)       0         \n",
      "_________________________________________________________________\n",
      "block4_conv1 (Conv2D)        (None, 37, 31, 512)       1180160   \n",
      "_________________________________________________________________\n",
      "block4_conv2 (Conv2D)        (None, 37, 31, 512)       2359808   \n",
      "_________________________________________________________________\n",
      "block4_conv3 (Conv2D)        (None, 37, 31, 512)       2359808   \n",
      "_________________________________________________________________\n",
      "block4_pool (MaxPooling2D)   (None, 18, 15, 512)       0         \n",
      "_________________________________________________________________\n",
      "block5_conv1 (Conv2D)        (None, 18, 15, 512)       2359808   \n",
      "_________________________________________________________________\n",
      "block5_conv2 (Conv2D)        (None, 18, 15, 512)       2359808   \n",
      "_________________________________________________________________\n",
      "block5_conv3 (Conv2D)        (None, 18, 15, 512)       2359808   \n",
      "_________________________________________________________________\n",
      "block5_pool (MaxPooling2D)   (None, 9, 7, 512)         0         \n",
      "_________________________________________________________________\n",
      "global_average_pooling2d (Gl (None, 512)               0         \n",
      "_________________________________________________________________\n",
      "dense (Dense)                (None, 256)               131328    \n",
      "_________________________________________________________________\n",
      "batch_normalization (BatchNo (None, 256)               1024      \n",
      "_________________________________________________________________\n",
      "dropout (Dropout)            (None, 256)               0         \n",
      "_________________________________________________________________\n",
      "dense_1 (Dense)              (None, 64)                16448     \n",
      "_________________________________________________________________\n",
      "batch_normalization_1 (Batch (None, 64)                256       \n",
      "_________________________________________________________________\n",
      "dropout_1 (Dropout)          (None, 64)                0         \n",
      "_________________________________________________________________\n",
      "dense_2 (Dense)              (None, 3)                 195       \n",
      "=================================================================\n",
      "Total params: 14,863,939\n",
      "Trainable params: 14,863,299\n",
      "Non-trainable params: 640\n",
      "_________________________________________________________________\n"
     ]
    }
   ],
   "source": [
    "model.summary()"
   ]
  },
  {
   "cell_type": "code",
   "execution_count": 26,
   "id": "1f6a8b59",
   "metadata": {},
   "outputs": [],
   "source": [
    "model.compile(\n",
    "    loss='categorical_crossentropy',\n",
    "    optimizer= 'adam',\n",
    "    metrics=['accuracy']\n",
    ")"
   ]
  },
  {
   "cell_type": "code",
   "execution_count": 27,
   "id": "f9d99206",
   "metadata": {},
   "outputs": [],
   "source": [
    "epochs = 20\n",
    "batch_size = 16"
   ]
  },
  {
   "cell_type": "code",
   "execution_count": 28,
   "id": "93452bf5",
   "metadata": {},
   "outputs": [
    {
     "name": "stdout",
     "output_type": "stream",
     "text": [
      "Found 4761 images belonging to 3 classes.\n",
      "Found 471 images belonging to 3 classes.\n",
      "Found 624 images belonging to 3 classes.\n"
     ]
    }
   ],
   "source": [
    "train_datagen = ImageDataGenerator(\n",
    "    rescale = 1./255,\n",
    "    rotation_range=10,\n",
    "    zoom_range = 0.1,\n",
    "    width_shift_range=0.1,\n",
    "    height_shift_range=0.1,\n",
    "    horizontal_flip=False,\n",
    "    vertical_flip=False\n",
    ")\n",
    "\n",
    "test_datagen = ImageDataGenerator(rescale = 1./255,)\n",
    "\n",
    "train_generator = train_datagen.flow_from_directory(\n",
    "    train_data_dir,\n",
    "    target_size=(img_width, img_height),\n",
    "    batch_size=batch_size,\n",
    "    class_mode='categorical')\n",
    "\n",
    "validation_generator = test_datagen.flow_from_directory(\n",
    "    validation_data_dir,\n",
    "    target_size=(img_width, img_height),\n",
    "    batch_size=batch_size,\n",
    "    class_mode='categorical')\n",
    "\n",
    "test_generator = test_datagen.flow_from_directory(\n",
    "    test_data_dir,\n",
    "    target_size=(img_width, img_height),\n",
    "    batch_size=batch_size,\n",
    "    class_mode='categorical')"
   ]
  },
  {
   "cell_type": "code",
   "execution_count": 31,
   "id": "1ac2f596",
   "metadata": {},
   "outputs": [],
   "source": [
    "model_folder = 'C:/Users/s_wnsgk4041/cal/2-2_vgg16/'\n",
    "model_path = model_folder + '{epoch:02d}-{val_loss:.4f}.hdf5'\n",
    "\n",
    "check_point = ModelCheckpoint(model_path, monitor = 'val_accuracy', save_best_only=False)\n",
    "early_stopping = EarlyStopping(monitor = 'val_accuracy', mode = 'max', patience=7, restore_best_weights=True)"
   ]
  },
  {
   "cell_type": "code",
   "execution_count": 32,
   "id": "22713dca",
   "metadata": {},
   "outputs": [
    {
     "name": "stdout",
     "output_type": "stream",
     "text": [
      "Epoch 1/20\n",
      "297/297 [==============================] - 119s 400ms/step - loss: 1.0829 - accuracy: 0.5267 - val_loss: 23.1311 - val_accuracy: 0.3750\n",
      "Epoch 2/20\n",
      "297/297 [==============================] - 109s 365ms/step - loss: 0.8728 - accuracy: 0.6008 - val_loss: 11.3638 - val_accuracy: 0.3125\n",
      "Epoch 3/20\n",
      "297/297 [==============================] - 110s 368ms/step - loss: 0.8129 - accuracy: 0.6276 - val_loss: 17.7571 - val_accuracy: 0.3168\n",
      "Epoch 4/20\n",
      "297/297 [==============================] - 109s 366ms/step - loss: 0.7759 - accuracy: 0.6455 - val_loss: 23.5963 - val_accuracy: 0.3707\n",
      "Epoch 5/20\n",
      "297/297 [==============================] - 109s 367ms/step - loss: 0.7508 - accuracy: 0.6630 - val_loss: 40.9372 - val_accuracy: 0.3168\n",
      "Epoch 6/20\n",
      "297/297 [==============================] - 110s 368ms/step - loss: 0.7358 - accuracy: 0.6695 - val_loss: 155.6306 - val_accuracy: 0.3168\n",
      "Epoch 7/20\n",
      "297/297 [==============================] - 110s 370ms/step - loss: 0.7177 - accuracy: 0.6693 - val_loss: 57.8410 - val_accuracy: 0.3147\n",
      "Epoch 8/20\n",
      "297/297 [==============================] - 110s 370ms/step - loss: 0.7137 - accuracy: 0.6698 - val_loss: 4.7546 - val_accuracy: 0.3707\n"
     ]
    }
   ],
   "source": [
    "history1 = model.fit_generator(\n",
    "    train_generator,\n",
    "    steps_per_epoch=nb_train_samples // batch_size,\n",
    "    epochs=epochs,\n",
    "    validation_data=validation_generator,\n",
    "    validation_steps=nb_validation_samples // batch_size,\n",
    "    callbacks = [check_point,early_stopping])"
   ]
  },
  {
   "cell_type": "code",
   "execution_count": 33,
   "id": "5843ca81",
   "metadata": {},
   "outputs": [
    {
     "name": "stdout",
     "output_type": "stream",
     "text": [
      "Found 4761 images belonging to 3 classes.\n",
      "Found 471 images belonging to 3 classes.\n",
      "Found 624 images belonging to 3 classes.\n"
     ]
    }
   ],
   "source": [
    "train_datagen = ImageDataGenerator(\n",
    "    rescale = 1./255,\n",
    "#     rotation_range=10,\n",
    "#     zoom_range = 0.1,\n",
    "#     width_shift_range=0.1,\n",
    "#     height_shift_range=0.1,\n",
    "#     horizontal_flip=False,\n",
    "#     vertical_flip=False\n",
    ")\n",
    "\n",
    "test_datagen = ImageDataGenerator(rescale = 1./255,)\n",
    "\n",
    "train_generator = train_datagen.flow_from_directory(\n",
    "    train_data_dir,\n",
    "    target_size=(img_width, img_height),\n",
    "    batch_size=batch_size,\n",
    "    class_mode='categorical')\n",
    "\n",
    "validation_generator = test_datagen.flow_from_directory(\n",
    "    validation_data_dir,\n",
    "    target_size=(img_width, img_height),\n",
    "    batch_size=batch_size,\n",
    "    class_mode='categorical')\n",
    "\n",
    "test_generator = test_datagen.flow_from_directory(\n",
    "    test_data_dir,\n",
    "    target_size=(img_width, img_height),\n",
    "    batch_size=batch_size,\n",
    "    class_mode='categorical')"
   ]
  },
  {
   "cell_type": "code",
   "execution_count": 34,
   "id": "a7bde0c4",
   "metadata": {},
   "outputs": [
    {
     "name": "stdout",
     "output_type": "stream",
     "text": [
      "Epoch 1/20\n",
      "297/297 [==============================] - 101s 339ms/step - loss: 0.8427 - accuracy: 0.6084 - val_loss: 9.7384 - val_accuracy: 0.3125\n",
      "Epoch 2/20\n",
      "297/297 [==============================] - 101s 339ms/step - loss: 0.7774 - accuracy: 0.6432 - val_loss: 2.3068 - val_accuracy: 0.3728\n",
      "Epoch 3/20\n",
      "297/297 [==============================] - 101s 339ms/step - loss: 0.7304 - accuracy: 0.6690 - val_loss: 14.7202 - val_accuracy: 0.3728\n",
      "Epoch 4/20\n",
      "297/297 [==============================] - 101s 338ms/step - loss: 0.7096 - accuracy: 0.6704 - val_loss: 1.7084 - val_accuracy: 0.3793\n",
      "Epoch 5/20\n",
      "297/297 [==============================] - 101s 339ms/step - loss: 0.7047 - accuracy: 0.6769 - val_loss: 18.4947 - val_accuracy: 0.3707\n",
      "Epoch 6/20\n",
      "297/297 [==============================] - 101s 339ms/step - loss: 0.6954 - accuracy: 0.6786 - val_loss: 104.1603 - val_accuracy: 0.3147\n",
      "Epoch 7/20\n",
      "297/297 [==============================] - 101s 339ms/step - loss: 0.6807 - accuracy: 0.6826 - val_loss: 20.9975 - val_accuracy: 0.3125\n",
      "Epoch 8/20\n",
      "297/297 [==============================] - 101s 339ms/step - loss: 0.6893 - accuracy: 0.6809 - val_loss: 1.6955 - val_accuracy: 0.4612\n",
      "Epoch 9/20\n",
      "297/297 [==============================] - 101s 339ms/step - loss: 0.6754 - accuracy: 0.6843 - val_loss: 2.2702 - val_accuracy: 0.4483\n",
      "Epoch 10/20\n",
      "297/297 [==============================] - 101s 340ms/step - loss: 0.6559 - accuracy: 0.6934 - val_loss: 12.9801 - val_accuracy: 0.3664\n",
      "Epoch 11/20\n",
      "297/297 [==============================] - 101s 339ms/step - loss: 0.6557 - accuracy: 0.6923 - val_loss: 4.3736 - val_accuracy: 0.3728\n",
      "Epoch 12/20\n",
      "297/297 [==============================] - 101s 340ms/step - loss: 0.6562 - accuracy: 0.6868 - val_loss: 1.2962 - val_accuracy: 0.5560\n",
      "Epoch 13/20\n",
      "297/297 [==============================] - 101s 340ms/step - loss: 0.6399 - accuracy: 0.6942 - val_loss: 12.2808 - val_accuracy: 0.3750\n",
      "Epoch 14/20\n",
      "297/297 [==============================] - 101s 340ms/step - loss: 0.6311 - accuracy: 0.7012 - val_loss: 10.9751 - val_accuracy: 0.3728\n",
      "Epoch 15/20\n",
      "297/297 [==============================] - 101s 340ms/step - loss: 0.6332 - accuracy: 0.6955 - val_loss: 11.0556 - val_accuracy: 0.3707\n",
      "Epoch 16/20\n",
      "297/297 [==============================] - 101s 340ms/step - loss: 0.6463 - accuracy: 0.6967 - val_loss: 14.9540 - val_accuracy: 0.3707\n",
      "Epoch 17/20\n",
      "297/297 [==============================] - 101s 340ms/step - loss: 0.6255 - accuracy: 0.7005 - val_loss: 5.9146 - val_accuracy: 0.3728\n",
      "Epoch 18/20\n",
      "297/297 [==============================] - 101s 341ms/step - loss: 0.5986 - accuracy: 0.7121 - val_loss: 21.7686 - val_accuracy: 0.3728\n",
      "Epoch 19/20\n",
      "297/297 [==============================] - 101s 341ms/step - loss: 0.6281 - accuracy: 0.7018 - val_loss: 24.0799 - val_accuracy: 0.3642\n"
     ]
    }
   ],
   "source": [
    "history2 = model.fit_generator(\n",
    "    train_generator,\n",
    "    steps_per_epoch=nb_train_samples // batch_size,\n",
    "    epochs=epochs,\n",
    "    validation_data=validation_generator,\n",
    "    validation_steps=nb_validation_samples // batch_size,\n",
    "    callbacks = [check_point,early_stopping])"
   ]
  },
  {
   "cell_type": "code",
   "execution_count": 104,
   "id": "6cf16866",
   "metadata": {},
   "outputs": [
    {
     "data": {
      "image/png": "[encoded data removed]",
      "text/plain": [
       "<Figure size 1152x576 with 2 Axes>"
      ]
     },
     "metadata": {
      "needs_background": "light"
     },
     "output_type": "display_data"
    }
   ],
   "source": [
    "accuracy = history.history['accuracy']\n",
    "val_accuracy = history.history['val_accuracy']\n",
    "\n",
    "loss=history.history['loss']\n",
    "val_loss=history.history['val_loss']\n",
    "\n",
    "epochs_range = range(epochs)\n",
    "\n",
    "plt.figure(figsize=(16, 8))\n",
    "plt.subplot(1, 2, 1)\n",
    "plt.plot(epochs_range, accuracy, label='Training Accuracy')\n",
    "plt.plot(epochs_range, val_accuracy, label='Validation Accuracy')\n",
    "plt.legend(loc='lower right')\n",
    "plt.title('Training and Validation Accuracy')\n",
    "\n",
    "plt.subplot(1, 2, 2)\n",
    "plt.plot(epochs_range, loss, label='Training Loss')\n",
    "plt.plot(epochs_range, val_loss, label='Validation Loss')\n",
    "plt.legend(loc='upper right')\n",
    "plt.title('Training and Validation Loss')\n",
    "plt.show()"
   ]
  },
  {
   "cell_type": "code",
   "execution_count": 44,
   "id": "dc8a8b64",
   "metadata": {},
   "outputs": [],
   "source": [
    "from tensorflow.keras.models import load_model\n",
    "model = load_model('C:/Users/s_wnsgk4041/cal/2-2_vgg16/07-0.4734.hdf5')\n",
    "\n",
    "\n",
    "\n",
    "# model.summary()"
   ]
  },
  {
   "cell_type": "code",
   "execution_count": 35,
   "id": "b0f58ad7",
   "metadata": {},
   "outputs": [
    {
     "name": "stderr",
     "output_type": "stream",
     "text": [
      "C:\\Users\\s_wnsgk4041\\AppData\\Roaming\\Python\\Python38\\site-packages\\tensorflow\\python\\keras\\engine\\training.py:1877: UserWarning: `Model.evaluate_generator` is deprecated and will be removed in a future version. Please use `Model.evaluate`, which supports generators.\n",
      "  warnings.warn('`Model.evaluate_generator` is deprecated and '\n"
     ]
    },
    {
     "name": "stdout",
     "output_type": "stream",
     "text": [
      "\n",
      "loss: 1.83\n",
      "\n",
      "accuracy: 42.63%\n"
     ]
    }
   ],
   "source": [
    "scores = model.evaluate_generator(test_generator)\n",
    "\n",
    "print(\"\\n%s: %.2f\" % (model.metrics_names[0], scores[0]))\n",
    "print(\"\\n%s: %.2f%%\" % (model.metrics_names[1], scores[1]*100))"
   ]
  },
  {
   "cell_type": "code",
   "execution_count": null,
   "id": "07eef141",
   "metadata": {},
   "outputs": [],
   "source": []
  }
 ],
 "metadata": {
  "kernelspec": {
   "display_name": "Python 3",
   "language": "python",
   "name": "python3"
  },
  "language_info": {
   "codemirror_mode": {
    "name": "ipython",
    "version": 3
   },
   "file_extension": ".py",
   "mimetype": "text/x-python",
   "name": "python",
   "nbconvert_exporter": "python",
   "pygments_lexer": "ipython3",
   "version": "3.8.8"
  }
 },
 "nbformat": 4,
 "nbformat_minor": 5
}
